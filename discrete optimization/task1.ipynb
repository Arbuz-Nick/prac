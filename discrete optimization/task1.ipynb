{
 "cells": [
  {
   "cell_type": "code",
   "execution_count": null,
   "metadata": {},
   "outputs": [],
   "source": [
    "n, C = map(int, input().split())"
   ]
  },
  {
   "cell_type": "code",
   "execution_count": null,
   "metadata": {},
   "outputs": [],
   "source": [
    "n, C = map(int, input().split())\n",
    "flag = 0\n",
    "prev = 1\n",
    "W = 2\n",
    "S = 3\n",
    "p = []\n",
    "w = []\n",
    "start = [-1, -1, 0, 0]\n",
    "lists = [start]\n",
    "all_lists = [lists]\n",
    "for i_ in range(n):\n",
    "    w_, p_ = map(int, input().split())\n",
    "    p.append(p_)\n",
    "    w.append(w_)\n",
    "    tmp_lists = []\n",
    "    new_lists = []\n",
    "    for l in range(len(lists)):\n",
    "        if lists[l][W] + w_ <= C:\n",
    "            new_lists.append([1, l, lists[l][W] + w_, lists[l][S] + p_])\n",
    "    i = 0\n",
    "    j = 0\n",
    "    # print(f'{i_+1})', lists, '|', new_lists)\n",
    "    while i < len(lists) and j < len(new_lists):\n",
    "        # print(lists[i], 'vs', new_lists[j])\n",
    "        if (lists[i][W] <= new_lists[j][W]) and (lists[i][S] >= new_lists[j][S]):\n",
    "            # print('list')\n",
    "            #tmp_lists.append([0, i, lists[i][W], lists[i][S]])\n",
    "            j += 1\n",
    "            #i += 1\n",
    "        elif (lists[i][W] >= new_lists[j][W]) and (lists[i][S] <= new_lists[j][S]):\n",
    "            # print('new_list')\n",
    "            #tmp_lists.append(new_lists[j])\n",
    "            #j += 1\n",
    "            i += 1\n",
    "        else:\n",
    "            # print('noone')\n",
    "            if lists[i][W] <= new_lists[j][W]:\n",
    "                tmp_lists.append([0, i, lists[i][W], lists[i][S]])\n",
    "                i += 1\n",
    "            else:\n",
    "                tmp_lists.append(new_lists[j])\n",
    "                j += 1\n",
    "\n",
    "    if i < len(lists):\n",
    "        for k in range(i, len(lists)):\n",
    "            tmp_lists.append([0, k, lists[k][W], lists[k][S]])\n",
    "            # print(f'add i {k}')\n",
    "    if j < len(new_lists):\n",
    "        for k in range(j, len(new_lists)):\n",
    "            tmp_lists.append(new_lists[k])\n",
    "            # print(f'add j {k}')\n",
    "\n",
    "    #print(f'{i_+1})', tmp_lists)\n",
    "    lists = tmp_lists\n",
    "    all_lists.append(lists)\n",
    "\n",
    "best = lists[-1]\n",
    "\n",
    "# for l in all_lists:\n",
    "#     print(l)\n",
    "result = []\n",
    "pos = -1\n",
    "for i in range(len(all_lists) - 1, 0, -1):\n",
    "    if all_lists[i][pos][flag]:\n",
    "        result.append(i-1)\n",
    "    pos = all_lists[i][pos][prev]\n",
    "\n",
    "print(best[S], len(result))\n",
    "# result = result[::-1]\n",
    "for i in result:\n",
    "    print(i)\n"
   ]
  },
  {
   "cell_type": "code",
   "execution_count": 1,
   "metadata": {},
   "outputs": [],
   "source": [
    "from solver import ListSolver"
   ]
  },
  {
   "cell_type": "code",
   "execution_count": 2,
   "metadata": {},
   "outputs": [],
   "source": [
    "sol = ListSolver(5, 10)"
   ]
  },
  {
   "cell_type": "code",
   "execution_count": 3,
   "metadata": {},
   "outputs": [
    {
     "data": {
      "text/plain": [
       "(17, [2, 1, 0])"
      ]
     },
     "execution_count": 3,
     "metadata": {},
     "output_type": "execute_result"
    }
   ],
   "source": [
    "sol.solve([2, 3, 4, 5, 6], [5, 6, 6, 3, 2])"
   ]
  },
  {
   "cell_type": "code",
   "execution_count": null,
   "metadata": {},
   "outputs": [],
   "source": []
  }
 ],
 "metadata": {
  "kernelspec": {
   "display_name": "Python 3.10.4 64-bit",
   "language": "python",
   "name": "python3"
  },
  "language_info": {
   "codemirror_mode": {
    "name": "ipython",
    "version": 3
   },
   "file_extension": ".py",
   "mimetype": "text/x-python",
   "name": "python",
   "nbconvert_exporter": "python",
   "pygments_lexer": "ipython3",
   "version": "3.10.4"
  },
  "orig_nbformat": 4,
  "vscode": {
   "interpreter": {
    "hash": "aee8b7b246df8f9039afb4144a1f6fd8d2ca17a180786b69acc140d282b71a49"
   }
  }
 },
 "nbformat": 4,
 "nbformat_minor": 2
}
