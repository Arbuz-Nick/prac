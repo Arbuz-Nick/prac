{
 "cells": [
  {
   "cell_type": "code",
   "execution_count": 1,
   "metadata": {},
   "outputs": [],
   "source": [
    "import pandas as pd\n",
    "import seaborn as sns\n",
    "import matplotlib.pyplot as plt"
   ]
  },
  {
   "cell_type": "code",
   "execution_count": 8,
   "metadata": {},
   "outputs": [],
   "source": [
    "res = pd.read_csv(\"./../result_mpi_polus.csv\", sep=';')"
   ]
  },
  {
   "cell_type": "code",
   "execution_count": 9,
   "metadata": {},
   "outputs": [
    {
     "data": {
      "text/html": [
       "<div>\n",
       "<style scoped>\n",
       "    .dataframe tbody tr th:only-of-type {\n",
       "        vertical-align: middle;\n",
       "    }\n",
       "\n",
       "    .dataframe tbody tr th {\n",
       "        vertical-align: top;\n",
       "    }\n",
       "\n",
       "    .dataframe thead th {\n",
       "        text-align: right;\n",
       "    }\n",
       "</style>\n",
       "<table border=\"1\" class=\"dataframe\">\n",
       "  <thead>\n",
       "    <tr style=\"text-align: right;\">\n",
       "      <th></th>\n",
       "      <th>Time</th>\n",
       "      <th>Nthreads</th>\n",
       "      <th>RunType</th>\n",
       "      <th>Size</th>\n",
       "    </tr>\n",
       "  </thead>\n",
       "  <tbody>\n",
       "    <tr>\n",
       "      <th>0</th>\n",
       "      <td>1.22085</td>\n",
       "      <td>1</td>\n",
       "      <td>normal</td>\n",
       "      <td>10000</td>\n",
       "    </tr>\n",
       "    <tr>\n",
       "      <th>1</th>\n",
       "      <td>1.46875</td>\n",
       "      <td>2</td>\n",
       "      <td>normal</td>\n",
       "      <td>10000</td>\n",
       "    </tr>\n",
       "    <tr>\n",
       "      <th>2</th>\n",
       "      <td>1.71539</td>\n",
       "      <td>8</td>\n",
       "      <td>normal</td>\n",
       "      <td>10000</td>\n",
       "    </tr>\n",
       "    <tr>\n",
       "      <th>3</th>\n",
       "      <td>1.95491</td>\n",
       "      <td>4</td>\n",
       "      <td>normal</td>\n",
       "      <td>10000</td>\n",
       "    </tr>\n",
       "    <tr>\n",
       "      <th>4</th>\n",
       "      <td>2.13213</td>\n",
       "      <td>16</td>\n",
       "      <td>normal</td>\n",
       "      <td>10000</td>\n",
       "    </tr>\n",
       "    <tr>\n",
       "      <th>...</th>\n",
       "      <td>...</td>\n",
       "      <td>...</td>\n",
       "      <td>...</td>\n",
       "      <td>...</td>\n",
       "    </tr>\n",
       "    <tr>\n",
       "      <th>75</th>\n",
       "      <td>18.97690</td>\n",
       "      <td>16</td>\n",
       "      <td>problem</td>\n",
       "      <td>25000</td>\n",
       "    </tr>\n",
       "    <tr>\n",
       "      <th>76</th>\n",
       "      <td>2.99221</td>\n",
       "      <td>16</td>\n",
       "      <td>problem</td>\n",
       "      <td>10000</td>\n",
       "    </tr>\n",
       "    <tr>\n",
       "      <th>77</th>\n",
       "      <td>16.28460</td>\n",
       "      <td>16</td>\n",
       "      <td>problem</td>\n",
       "      <td>25000</td>\n",
       "    </tr>\n",
       "    <tr>\n",
       "      <th>78</th>\n",
       "      <td>3.54298</td>\n",
       "      <td>16</td>\n",
       "      <td>problem</td>\n",
       "      <td>10000</td>\n",
       "    </tr>\n",
       "    <tr>\n",
       "      <th>79</th>\n",
       "      <td>19.44640</td>\n",
       "      <td>16</td>\n",
       "      <td>problem</td>\n",
       "      <td>25000</td>\n",
       "    </tr>\n",
       "  </tbody>\n",
       "</table>\n",
       "<p>80 rows × 4 columns</p>\n",
       "</div>"
      ],
      "text/plain": [
       "        Time  Nthreads  RunType   Size\n",
       "0    1.22085         1   normal  10000\n",
       "1    1.46875         2   normal  10000\n",
       "2    1.71539         8   normal  10000\n",
       "3    1.95491         4   normal  10000\n",
       "4    2.13213        16   normal  10000\n",
       "..       ...       ...      ...    ...\n",
       "75  18.97690        16  problem  25000\n",
       "76   2.99221        16  problem  10000\n",
       "77  16.28460        16  problem  25000\n",
       "78   3.54298        16  problem  10000\n",
       "79  19.44640        16  problem  25000\n",
       "\n",
       "[80 rows x 4 columns]"
      ]
     },
     "execution_count": 9,
     "metadata": {},
     "output_type": "execute_result"
    }
   ],
   "source": [
    "res"
   ]
  },
  {
   "cell_type": "code",
   "execution_count": 10,
   "metadata": {},
   "outputs": [],
   "source": [
    "p = res[res.RunType == 'problem'].drop(['RunType'], axis=1)"
   ]
  },
  {
   "cell_type": "code",
   "execution_count": 11,
   "metadata": {},
   "outputs": [],
   "source": [
    "n = res[res.RunType == 'normal'].drop(['RunType'], axis=1)"
   ]
  },
  {
   "cell_type": "code",
   "execution_count": 12,
   "metadata": {},
   "outputs": [
    {
     "data": {
      "text/html": [
       "<div>\n",
       "<style scoped>\n",
       "    .dataframe tbody tr th:only-of-type {\n",
       "        vertical-align: middle;\n",
       "    }\n",
       "\n",
       "    .dataframe tbody tr th {\n",
       "        vertical-align: top;\n",
       "    }\n",
       "\n",
       "    .dataframe thead th {\n",
       "        text-align: right;\n",
       "    }\n",
       "</style>\n",
       "<table border=\"1\" class=\"dataframe\">\n",
       "  <thead>\n",
       "    <tr style=\"text-align: right;\">\n",
       "      <th></th>\n",
       "      <th>Size</th>\n",
       "      <th>Nthreads</th>\n",
       "      <th>Time</th>\n",
       "    </tr>\n",
       "  </thead>\n",
       "  <tbody>\n",
       "    <tr>\n",
       "      <th>0</th>\n",
       "      <td>10000</td>\n",
       "      <td>1</td>\n",
       "      <td>1.058165</td>\n",
       "    </tr>\n",
       "    <tr>\n",
       "      <th>1</th>\n",
       "      <td>10000</td>\n",
       "      <td>2</td>\n",
       "      <td>1.277033</td>\n",
       "    </tr>\n",
       "    <tr>\n",
       "      <th>2</th>\n",
       "      <td>10000</td>\n",
       "      <td>4</td>\n",
       "      <td>1.783977</td>\n",
       "    </tr>\n",
       "    <tr>\n",
       "      <th>3</th>\n",
       "      <td>10000</td>\n",
       "      <td>8</td>\n",
       "      <td>2.492485</td>\n",
       "    </tr>\n",
       "    <tr>\n",
       "      <th>4</th>\n",
       "      <td>10000</td>\n",
       "      <td>16</td>\n",
       "      <td>3.170905</td>\n",
       "    </tr>\n",
       "    <tr>\n",
       "      <th>5</th>\n",
       "      <td>25000</td>\n",
       "      <td>1</td>\n",
       "      <td>6.649382</td>\n",
       "    </tr>\n",
       "    <tr>\n",
       "      <th>6</th>\n",
       "      <td>25000</td>\n",
       "      <td>2</td>\n",
       "      <td>7.897527</td>\n",
       "    </tr>\n",
       "    <tr>\n",
       "      <th>7</th>\n",
       "      <td>25000</td>\n",
       "      <td>4</td>\n",
       "      <td>10.453233</td>\n",
       "    </tr>\n",
       "    <tr>\n",
       "      <th>8</th>\n",
       "      <td>25000</td>\n",
       "      <td>8</td>\n",
       "      <td>13.227700</td>\n",
       "    </tr>\n",
       "    <tr>\n",
       "      <th>9</th>\n",
       "      <td>25000</td>\n",
       "      <td>16</td>\n",
       "      <td>18.709000</td>\n",
       "    </tr>\n",
       "  </tbody>\n",
       "</table>\n",
       "</div>"
      ],
      "text/plain": [
       "    Size  Nthreads       Time\n",
       "0  10000         1   1.058165\n",
       "1  10000         2   1.277033\n",
       "2  10000         4   1.783977\n",
       "3  10000         8   2.492485\n",
       "4  10000        16   3.170905\n",
       "5  25000         1   6.649382\n",
       "6  25000         2   7.897527\n",
       "7  25000         4  10.453233\n",
       "8  25000         8  13.227700\n",
       "9  25000        16  18.709000"
      ]
     },
     "execution_count": 12,
     "metadata": {},
     "output_type": "execute_result"
    }
   ],
   "source": [
    "p = p.groupby(['Size', 'Nthreads']).mean().reset_index()\n",
    "p"
   ]
  },
  {
   "cell_type": "code",
   "execution_count": 14,
   "metadata": {},
   "outputs": [
    {
     "data": {
      "text/html": [
       "<div>\n",
       "<style scoped>\n",
       "    .dataframe tbody tr th:only-of-type {\n",
       "        vertical-align: middle;\n",
       "    }\n",
       "\n",
       "    .dataframe tbody tr th {\n",
       "        vertical-align: top;\n",
       "    }\n",
       "\n",
       "    .dataframe thead th {\n",
       "        text-align: right;\n",
       "    }\n",
       "</style>\n",
       "<table border=\"1\" class=\"dataframe\">\n",
       "  <thead>\n",
       "    <tr style=\"text-align: right;\">\n",
       "      <th></th>\n",
       "      <th>Size</th>\n",
       "      <th>Nthreads</th>\n",
       "      <th>Time</th>\n",
       "    </tr>\n",
       "  </thead>\n",
       "  <tbody>\n",
       "    <tr>\n",
       "      <th>0</th>\n",
       "      <td>10000</td>\n",
       "      <td>1</td>\n",
       "      <td>1.766485</td>\n",
       "    </tr>\n",
       "    <tr>\n",
       "      <th>1</th>\n",
       "      <td>10000</td>\n",
       "      <td>2</td>\n",
       "      <td>1.444425</td>\n",
       "    </tr>\n",
       "    <tr>\n",
       "      <th>2</th>\n",
       "      <td>10000</td>\n",
       "      <td>4</td>\n",
       "      <td>2.541752</td>\n",
       "    </tr>\n",
       "    <tr>\n",
       "      <th>3</th>\n",
       "      <td>10000</td>\n",
       "      <td>8</td>\n",
       "      <td>1.573180</td>\n",
       "    </tr>\n",
       "    <tr>\n",
       "      <th>4</th>\n",
       "      <td>10000</td>\n",
       "      <td>16</td>\n",
       "      <td>2.374008</td>\n",
       "    </tr>\n",
       "    <tr>\n",
       "      <th>5</th>\n",
       "      <td>25000</td>\n",
       "      <td>1</td>\n",
       "      <td>7.144778</td>\n",
       "    </tr>\n",
       "    <tr>\n",
       "      <th>6</th>\n",
       "      <td>25000</td>\n",
       "      <td>2</td>\n",
       "      <td>17.877028</td>\n",
       "    </tr>\n",
       "    <tr>\n",
       "      <th>7</th>\n",
       "      <td>25000</td>\n",
       "      <td>4</td>\n",
       "      <td>23.048908</td>\n",
       "    </tr>\n",
       "    <tr>\n",
       "      <th>8</th>\n",
       "      <td>25000</td>\n",
       "      <td>8</td>\n",
       "      <td>19.177657</td>\n",
       "    </tr>\n",
       "    <tr>\n",
       "      <th>9</th>\n",
       "      <td>25000</td>\n",
       "      <td>16</td>\n",
       "      <td>14.981650</td>\n",
       "    </tr>\n",
       "  </tbody>\n",
       "</table>\n",
       "</div>"
      ],
      "text/plain": [
       "    Size  Nthreads       Time\n",
       "0  10000         1   1.766485\n",
       "1  10000         2   1.444425\n",
       "2  10000         4   2.541752\n",
       "3  10000         8   1.573180\n",
       "4  10000        16   2.374008\n",
       "5  25000         1   7.144778\n",
       "6  25000         2  17.877028\n",
       "7  25000         4  23.048908\n",
       "8  25000         8  19.177657\n",
       "9  25000        16  14.981650"
      ]
     },
     "execution_count": 14,
     "metadata": {},
     "output_type": "execute_result"
    }
   ],
   "source": [
    "n = n.groupby(['Size', 'Nthreads']).mean().reset_index()\n",
    "n"
   ]
  },
  {
   "cell_type": "code",
   "execution_count": 16,
   "metadata": {},
   "outputs": [
    {
     "ename": "AttributeError",
     "evalue": "module 'seaborn' has no attribute 'show'",
     "output_type": "error",
     "traceback": [
      "\u001b[0;31m---------------------------------------------------------------------------\u001b[0m",
      "\u001b[0;31mAttributeError\u001b[0m                            Traceback (most recent call last)",
      "\u001b[1;32m/Users/anr/Desktop/prac/sem8/mpi/Отчет/analytics.ipynb Ячейка 8\u001b[0m in \u001b[0;36m<cell line: 1>\u001b[0;34m()\u001b[0m\n\u001b[1;32m      <a href='vscode-notebook-cell:/Users/anr/Desktop/prac/sem8/mpi/%D0%9E%D1%82%D1%87%D0%B5%D1%82/analytics.ipynb#X10sZmlsZQ%3D%3D?line=0'>1</a>\u001b[0m \u001b[39mfor\u001b[39;00m size \u001b[39min\u001b[39;00m n\u001b[39m.\u001b[39mSize\u001b[39m.\u001b[39munique():\n\u001b[1;32m      <a href='vscode-notebook-cell:/Users/anr/Desktop/prac/sem8/mpi/%D0%9E%D1%82%D1%87%D0%B5%D1%82/analytics.ipynb#X10sZmlsZQ%3D%3D?line=1'>2</a>\u001b[0m     sns\u001b[39m.\u001b[39mlineplot(data\u001b[39m=\u001b[39mn[n\u001b[39m.\u001b[39mSize \u001b[39m==\u001b[39m size], x\u001b[39m=\u001b[39m\u001b[39m'\u001b[39m\u001b[39mNthreads\u001b[39m\u001b[39m'\u001b[39m, y\u001b[39m=\u001b[39m\u001b[39m'\u001b[39m\u001b[39mTime\u001b[39m\u001b[39m'\u001b[39m)\n\u001b[0;32m----> <a href='vscode-notebook-cell:/Users/anr/Desktop/prac/sem8/mpi/%D0%9E%D1%82%D1%87%D0%B5%D1%82/analytics.ipynb#X10sZmlsZQ%3D%3D?line=2'>3</a>\u001b[0m     sns\u001b[39m.\u001b[39;49mshow()\n",
      "\u001b[0;31mAttributeError\u001b[0m: module 'seaborn' has no attribute 'show'"
     ]
    },
    {
     "data": {
      "image/png": "[encoded data removed]",
      "text/plain": [
       "<Figure size 432x288 with 1 Axes>"
      ]
     },
     "metadata": {
      "needs_background": "light"
     },
     "output_type": "display_data"
    }
   ],
   "source": [
    "for size in n.Size.unique():\n",
    "    sns.lineplot(data=n[n.Size == size], x='Nthreads', y='Time')\n",
    "    sns.show()\n",
    "\n"
   ]
  },
  {
   "cell_type": "code",
   "execution_count": 17,
   "metadata": {},
   "outputs": [
    {
     "data": {
      "image/png": "[encoded data removed]",
      "text/plain": [
       "<Figure size 432x288 with 1 Axes>"
      ]
     },
     "metadata": {
      "needs_background": "light"
     },
     "output_type": "display_data"
    },
    {
     "data": {
      "image/png": "[encoded data removed]",
      "text/plain": [
       "<Figure size 432x288 with 1 Axes>"
      ]
     },
     "metadata": {
      "needs_background": "light"
     },
     "output_type": "display_data"
    }
   ],
   "source": [
    "#fig, axes = plt.subplots(nrows=3, ncols=1, figsize=(6, 4*3))\n",
    "\n",
    "# Loop over each column in the DataFrame\n",
    "for i, size in enumerate(n.Size.unique()):\n",
    "    \n",
    "    # Select the data for the current column\n",
    "    data = n[n.Size == size]\n",
    "    data2 = p[p.Size == size]\n",
    "    \n",
    "    \n",
    "    # Plot the data on the corresponding subplot\n",
    "    sns.lineplot(data=data, x='Nthreads', y='Time')\n",
    "    sns.lineplot(data=data2, x='Nthreads', y='Time')\n",
    "    plt.show()\n",
    "    #axes[i].set_title(column)"
   ]
  },
  {
   "cell_type": "code",
   "execution_count": 18,
   "metadata": {},
   "outputs": [],
   "source": [
    "res = n.merge(p, left_on=['Nthreads', 'Size'], right_on=['Nthreads', 'Size'])"
   ]
  },
  {
   "cell_type": "code",
   "execution_count": 20,
   "metadata": {},
   "outputs": [],
   "source": [
    "res.columns = ['Size', 'Nthreads', 'Time_Normal', 'Time_Problem']"
   ]
  },
  {
   "cell_type": "code",
   "execution_count": 21,
   "metadata": {},
   "outputs": [],
   "source": [
    "res['diff'] = res.Time_Problem - res.Time_Normal"
   ]
  },
  {
   "cell_type": "code",
   "execution_count": 22,
   "metadata": {},
   "outputs": [
    {
     "data": {
      "text/html": [
       "<div>\n",
       "<style scoped>\n",
       "    .dataframe tbody tr th:only-of-type {\n",
       "        vertical-align: middle;\n",
       "    }\n",
       "\n",
       "    .dataframe tbody tr th {\n",
       "        vertical-align: top;\n",
       "    }\n",
       "\n",
       "    .dataframe thead th {\n",
       "        text-align: right;\n",
       "    }\n",
       "</style>\n",
       "<table border=\"1\" class=\"dataframe\">\n",
       "  <thead>\n",
       "    <tr style=\"text-align: right;\">\n",
       "      <th></th>\n",
       "      <th>Size</th>\n",
       "      <th>Nthreads</th>\n",
       "      <th>Time_Normal</th>\n",
       "      <th>Time_Problem</th>\n",
       "      <th>diff</th>\n",
       "    </tr>\n",
       "  </thead>\n",
       "  <tbody>\n",
       "    <tr>\n",
       "      <th>0</th>\n",
       "      <td>10000</td>\n",
       "      <td>1</td>\n",
       "      <td>1.766485</td>\n",
       "      <td>1.058165</td>\n",
       "      <td>-0.708320</td>\n",
       "    </tr>\n",
       "    <tr>\n",
       "      <th>1</th>\n",
       "      <td>10000</td>\n",
       "      <td>2</td>\n",
       "      <td>1.444425</td>\n",
       "      <td>1.277033</td>\n",
       "      <td>-0.167393</td>\n",
       "    </tr>\n",
       "    <tr>\n",
       "      <th>2</th>\n",
       "      <td>10000</td>\n",
       "      <td>4</td>\n",
       "      <td>2.541752</td>\n",
       "      <td>1.783977</td>\n",
       "      <td>-0.757775</td>\n",
       "    </tr>\n",
       "    <tr>\n",
       "      <th>3</th>\n",
       "      <td>10000</td>\n",
       "      <td>8</td>\n",
       "      <td>1.573180</td>\n",
       "      <td>2.492485</td>\n",
       "      <td>0.919305</td>\n",
       "    </tr>\n",
       "    <tr>\n",
       "      <th>4</th>\n",
       "      <td>10000</td>\n",
       "      <td>16</td>\n",
       "      <td>2.374008</td>\n",
       "      <td>3.170905</td>\n",
       "      <td>0.796898</td>\n",
       "    </tr>\n",
       "    <tr>\n",
       "      <th>5</th>\n",
       "      <td>25000</td>\n",
       "      <td>1</td>\n",
       "      <td>7.144778</td>\n",
       "      <td>6.649382</td>\n",
       "      <td>-0.495395</td>\n",
       "    </tr>\n",
       "    <tr>\n",
       "      <th>6</th>\n",
       "      <td>25000</td>\n",
       "      <td>2</td>\n",
       "      <td>17.877028</td>\n",
       "      <td>7.897527</td>\n",
       "      <td>-9.979500</td>\n",
       "    </tr>\n",
       "    <tr>\n",
       "      <th>7</th>\n",
       "      <td>25000</td>\n",
       "      <td>4</td>\n",
       "      <td>23.048908</td>\n",
       "      <td>10.453233</td>\n",
       "      <td>-12.595675</td>\n",
       "    </tr>\n",
       "    <tr>\n",
       "      <th>8</th>\n",
       "      <td>25000</td>\n",
       "      <td>8</td>\n",
       "      <td>19.177657</td>\n",
       "      <td>13.227700</td>\n",
       "      <td>-5.949957</td>\n",
       "    </tr>\n",
       "    <tr>\n",
       "      <th>9</th>\n",
       "      <td>25000</td>\n",
       "      <td>16</td>\n",
       "      <td>14.981650</td>\n",
       "      <td>18.709000</td>\n",
       "      <td>3.727350</td>\n",
       "    </tr>\n",
       "  </tbody>\n",
       "</table>\n",
       "</div>"
      ],
      "text/plain": [
       "    Size  Nthreads  Time_Normal  Time_Problem       diff\n",
       "0  10000         1     1.766485      1.058165  -0.708320\n",
       "1  10000         2     1.444425      1.277033  -0.167393\n",
       "2  10000         4     2.541752      1.783977  -0.757775\n",
       "3  10000         8     1.573180      2.492485   0.919305\n",
       "4  10000        16     2.374008      3.170905   0.796898\n",
       "5  25000         1     7.144778      6.649382  -0.495395\n",
       "6  25000         2    17.877028      7.897527  -9.979500\n",
       "7  25000         4    23.048908     10.453233 -12.595675\n",
       "8  25000         8    19.177657     13.227700  -5.949957\n",
       "9  25000        16    14.981650     18.709000   3.727350"
      ]
     },
     "execution_count": 22,
     "metadata": {},
     "output_type": "execute_result"
    }
   ],
   "source": [
    "res#.groupby(['MatrixSize']).expanding().min()"
   ]
  },
  {
   "cell_type": "code",
   "execution_count": 54,
   "metadata": {},
   "outputs": [],
   "source": [
    "res['Efficiency_With'] = res.Time_With / res.Nthreads\n",
    "res['Efficiency_Without'] = res.Time_Without / res.Nthreads"
   ]
  },
  {
   "cell_type": "code",
   "execution_count": 23,
   "metadata": {},
   "outputs": [],
   "source": [
    "res.to_csv(\"./res_table.csv\")"
   ]
  },
  {
   "cell_type": "code",
   "execution_count": null,
   "metadata": {},
   "outputs": [],
   "source": [
    "res"
   ]
  }
 ],
 "metadata": {
  "kernelspec": {
   "display_name": "Python 3.10.4 64-bit",
   "language": "python",
   "name": "python3"
  },
  "language_info": {
   "codemirror_mode": {
    "name": "ipython",
    "version": 3
   },
   "file_extension": ".py",
   "mimetype": "text/x-python",
   "name": "python",
   "nbconvert_exporter": "python",
   "pygments_lexer": "ipython3",
   "version": "3.10.4"
  },
  "orig_nbformat": 4,
  "vscode": {
   "interpreter": {
    "hash": "aee8b7b246df8f9039afb4144a1f6fd8d2ca17a180786b69acc140d282b71a49"
   }
  }
 },
 "nbformat": 4,
 "nbformat_minor": 2
}
